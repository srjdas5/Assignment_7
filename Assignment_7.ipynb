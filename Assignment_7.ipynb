{
 "cells": [
  {
   "cell_type": "code",
   "execution_count": 1,
   "metadata": {},
   "outputs": [
    {
     "name": "stdout",
     "output_type": "stream",
     "text": [
      "[   5.            4.66666667    5.66666667    6.66666667    9.66666667\n",
      "   28.66666667   49.33333333   72.66666667   84.           93.33333333\n",
      "  116.33333333]\n"
     ]
    }
   ],
   "source": [
    "#Write a function to find moving average in an array over a window:\n",
    "    #Test it over [3, 5, 7, 2, 8, 10, 11, 65, 72, 81, 99, 100, 150] and window of 3.\n",
    "import numpy as np\n",
    "\n",
    "x = [3, 5, 7, 2, 8, 10, 11, 65, 72, 81, 99, 100, 150]\n",
    "\n",
    "\n",
    "def movingaverage(value, window):\n",
    "    weights = np.repeat(1.0,window)/window\n",
    "    ma = np.convolve(value,weights,'valid')\n",
    "    return ma\n",
    "\n",
    "\n",
    "yMA = movingaverage(x,3)\n",
    "print(yMA)"
   ]
  },
  {
   "cell_type": "code",
   "execution_count": null,
   "metadata": {
    "collapsed": true
   },
   "outputs": [],
   "source": []
  }
 ],
 "metadata": {
  "kernelspec": {
   "display_name": "Python 3",
   "language": "python",
   "name": "python3"
  },
  "language_info": {
   "codemirror_mode": {
    "name": "ipython",
    "version": 3
   },
   "file_extension": ".py",
   "mimetype": "text/x-python",
   "name": "python",
   "nbconvert_exporter": "python",
   "pygments_lexer": "ipython3",
   "version": "3.6.3"
  }
 },
 "nbformat": 4,
 "nbformat_minor": 2
}
